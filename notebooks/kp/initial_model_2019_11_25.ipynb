{
 "cells": [
  {
   "cell_type": "code",
   "execution_count": 159,
   "metadata": {
    "ExecuteTime": {
     "end_time": "2019-11-26T20:42:16.980165Z",
     "start_time": "2019-11-26T20:42:16.735908Z"
    }
   },
   "outputs": [
    {
     "name": "stdout",
     "output_type": "stream",
     "text": [
      "The autoreload extension is already loaded. To reload it, use:\n",
      "  %reload_ext autoreload\n"
     ]
    }
   ],
   "source": [
    "import sys\n",
    "sys.path.insert(0, '../../')\n",
    "\n",
    "%load_ext autoreload\n",
    "%autoreload 2\n",
    "\n",
    "from pathlib import Path\n",
    "import numpy as np\n",
    "import pandas as pd\n",
    "from src.utils import build_pipeline\n",
    "from src.utils import ashrae_transformers\n",
    "\n",
    "%reload_ext autoreload"
   ]
  },
  {
   "cell_type": "code",
   "execution_count": 160,
   "metadata": {
    "ExecuteTime": {
     "end_time": "2019-11-26T20:43:46.983977Z",
     "start_time": "2019-11-26T20:43:46.742727Z"
    }
   },
   "outputs": [
    {
     "name": "stdout",
     "output_type": "stream",
     "text": [
      "Pipfile          README.md        \u001b[1m\u001b[36mnotebooks\u001b[m\u001b[m        \u001b[1m\u001b[36msrc\u001b[m\u001b[m\r\n",
      "Pipfile.lock     \u001b[1m\u001b[36mdata\u001b[m\u001b[m             requirements.txt\r\n"
     ]
    }
   ],
   "source": [
    "!ls ../../"
   ]
  },
  {
   "cell_type": "code",
   "execution_count": 161,
   "metadata": {
    "ExecuteTime": {
     "end_time": "2019-11-26T20:45:23.483252Z",
     "start_time": "2019-11-26T20:45:14.933794Z"
    }
   },
   "outputs": [],
   "source": [
    "train = pd.read_feather('../../data/feather/train_merged.feather')\n",
    "test = pd.read_feather('../../data/feather/test_merged.feather')"
   ]
  },
  {
   "cell_type": "code",
   "execution_count": 162,
   "metadata": {
    "ExecuteTime": {
     "end_time": "2019-11-26T20:46:54.213402Z",
     "start_time": "2019-11-26T20:46:51.613794Z"
    }
   },
   "outputs": [],
   "source": [
    "# Site 0 remove missing meter readings from Site 0\n",
    "train = train[~((train.site_id==0) & \n",
    "                (train.meter==0) & \n",
    "                (train.building_id <= 104) & \n",
    "                (train.timestamp < \"2016-05-21\"))]"
   ]
  },
  {
   "cell_type": "code",
   "execution_count": 163,
   "metadata": {
    "ExecuteTime": {
     "end_time": "2019-11-26T20:48:20.781916Z",
     "start_time": "2019-11-26T20:48:20.688887Z"
    }
   },
   "outputs": [],
   "source": [
    "from sklearn.linear_model import LinearRegression\n",
    "from sklearn.model_selection import StratifiedKFold, KFold\n",
    "from tqdm import notebook as tqdm\n",
    "from lightgbm import LGBMRegressor\n",
    "from sklearn.metrics import mean_squared_error\n",
    "from sklearn.pipeline import Pipeline"
   ]
  },
  {
   "cell_type": "code",
   "execution_count": 164,
   "metadata": {
    "ExecuteTime": {
     "end_time": "2019-11-26T20:50:04.786543Z",
     "start_time": "2019-11-26T20:49:48.232391Z"
    }
   },
   "outputs": [],
   "source": [
    "X = train.drop(columns='meter_reading')\n",
    "y = train['meter_reading'].map(np.log1p)"
   ]
  },
  {
   "cell_type": "markdown",
   "metadata": {},
   "source": [
    "if the following error appears\n",
    "\n",
    "```error: 'i' format requires -2147483648 <= number <= 2147483647```\n",
    "\n",
    "probably joblib multiprocessing fails to pickle data and send between processes, which means you have to stay with n_jobs=1 (till a solution is available)\n",
    "\n",
    "To change the n_jobs=1, do it the following way if you import the pipeline from another script\n",
    "\n",
    "`build_pipeline.full_pipeline.n_jobs = 1`"
   ]
  },
  {
   "cell_type": "code",
   "execution_count": 30,
   "metadata": {
    "ExecuteTime": {
     "end_time": "2019-11-26T14:01:38.722553Z",
     "start_time": "2019-11-26T13:08:26.497495Z"
    }
   },
   "outputs": [
    {
     "name": "stdout",
     "output_type": "stream",
     "text": [
      "Model 0 fitting...\n",
      "[FeatureUnion]  (step 1 of 4) Processing categorical_pipeline1, total=  32.7s\n",
      "[FeatureUnion]  (step 2 of 4) Processing categorical_pipeline2, total=   0.2s\n",
      "[FeatureUnion]  (step 3 of 4) Processing numerical_pipeline, total=  11.7s\n",
      "[FeatureUnion]  (step 4 of 4) Processing temporal_pipeline, total=   8.4s\n",
      "Model 0 fitted.\n",
      "Fold: 0 , RMSE: 1270.929131607815\n",
      "Model 1 fitting...\n",
      "[FeatureUnion]  (step 1 of 4) Processing categorical_pipeline1, total=  30.7s\n",
      "[FeatureUnion]  (step 2 of 4) Processing categorical_pipeline2, total=   0.2s\n",
      "[FeatureUnion]  (step 3 of 4) Processing numerical_pipeline, total=  12.2s\n",
      "[FeatureUnion]  (step 4 of 4) Processing temporal_pipeline, total=   8.5s\n",
      "Model 1 fitted.\n",
      "Fold: 1 , RMSE: 1407.3912480937154\n",
      "Model 2 fitting...\n",
      "[FeatureUnion]  (step 1 of 4) Processing categorical_pipeline1, total=  38.8s\n",
      "[FeatureUnion]  (step 2 of 4) Processing categorical_pipeline2, total=   0.2s\n",
      "[FeatureUnion]  (step 3 of 4) Processing numerical_pipeline, total=  13.1s\n",
      "[FeatureUnion]  (step 4 of 4) Processing temporal_pipeline, total=   9.5s\n",
      "Model 2 fitted.\n",
      "Fold: 2 , RMSE: 732.0500027396454\n",
      "Model 3 fitting...\n",
      "[FeatureUnion]  (step 1 of 4) Processing categorical_pipeline1, total=  35.2s\n",
      "[FeatureUnion]  (step 2 of 4) Processing categorical_pipeline2, total=   0.2s\n",
      "[FeatureUnion]  (step 3 of 4) Processing numerical_pipeline, total=  13.6s\n",
      "[FeatureUnion]  (step 4 of 4) Processing temporal_pipeline, total=   9.2s\n",
      "Model 3 fitted.\n",
      "Fold: 3 , RMSE: 537.1057470992622\n",
      "Model 4 fitting...\n",
      "[FeatureUnion]  (step 1 of 4) Processing categorical_pipeline1, total=  34.5s\n",
      "[FeatureUnion]  (step 2 of 4) Processing categorical_pipeline2, total=   0.3s\n",
      "[FeatureUnion]  (step 3 of 4) Processing numerical_pipeline, total=  12.9s\n",
      "[FeatureUnion]  (step 4 of 4) Processing temporal_pipeline, total=   8.5s\n",
      "Model 4 fitted.\n",
      "Fold: 4 , RMSE: 479.4770022385859\n",
      "Model 5 fitting...\n",
      "[FeatureUnion]  (step 1 of 4) Processing categorical_pipeline1, total=  32.3s\n",
      "[FeatureUnion]  (step 2 of 4) Processing categorical_pipeline2, total=   0.2s\n",
      "[FeatureUnion]  (step 3 of 4) Processing numerical_pipeline, total=  12.5s\n",
      "[FeatureUnion]  (step 4 of 4) Processing temporal_pipeline, total=   9.0s\n",
      "Model 5 fitted.\n",
      "Fold: 5 , RMSE: 431.7730012065182\n",
      "Model 6 fitting...\n",
      "[FeatureUnion]  (step 1 of 4) Processing categorical_pipeline1, total=  35.9s\n",
      "[FeatureUnion]  (step 2 of 4) Processing categorical_pipeline2, total=   0.2s\n",
      "[FeatureUnion]  (step 3 of 4) Processing numerical_pipeline, total=  12.2s\n",
      "[FeatureUnion]  (step 4 of 4) Processing temporal_pipeline, total=   8.5s\n",
      "Model 6 fitted.\n",
      "Fold: 6 , RMSE: 482.0488264253357\n",
      "Model 7 fitting...\n",
      "[FeatureUnion]  (step 1 of 4) Processing categorical_pipeline1, total=  36.7s\n",
      "[FeatureUnion]  (step 2 of 4) Processing categorical_pipeline2, total=   0.2s\n",
      "[FeatureUnion]  (step 3 of 4) Processing numerical_pipeline, total=  13.9s\n",
      "[FeatureUnion]  (step 4 of 4) Processing temporal_pipeline, total=  10.6s\n",
      "Model 7 fitted.\n",
      "Fold: 7 , RMSE: 531.1851067485883\n",
      "Model 8 fitting...\n",
      "[FeatureUnion]  (step 1 of 4) Processing categorical_pipeline1, total=  38.1s\n",
      "[FeatureUnion]  (step 2 of 4) Processing categorical_pipeline2, total=   0.2s\n",
      "[FeatureUnion]  (step 3 of 4) Processing numerical_pipeline, total=  13.7s\n",
      "[FeatureUnion]  (step 4 of 4) Processing temporal_pipeline, total=   9.3s\n",
      "Model 8 fitted.\n",
      "Fold: 8 , RMSE: 673.3190365760664\n",
      "Model 9 fitting...\n",
      "[FeatureUnion]  (step 1 of 4) Processing categorical_pipeline1, total=  34.2s\n",
      "[FeatureUnion]  (step 2 of 4) Processing categorical_pipeline2, total=   0.2s\n",
      "[FeatureUnion]  (step 3 of 4) Processing numerical_pipeline, total=  12.8s\n",
      "[FeatureUnion]  (step 4 of 4) Processing temporal_pipeline, total=   8.5s\n",
      "Model 9 fitted.\n",
      "Fold: 9 , RMSE: 999.199820844168\n"
     ]
    }
   ],
   "source": [
    "NFOLDS = 10\n",
    "folds  = KFold(n_splits=NFOLDS, shuffle=False, random_state=123)\n",
    "\n",
    "oof_preds = np.zeros((len(train), 1))\n",
    "test_preds = np.zeros((len(test), 1))\n",
    "\n",
    "for fold_, (train_index, val_index) in enumerate(folds.split(X)):\n",
    "    train_X = X.iloc[train_index]\n",
    "    val_X = X.iloc[val_index]\n",
    "    train_y = y.iloc[train_index]\n",
    "    val_y = y.iloc[val_index]\n",
    "    \n",
    "    lgbm = LGBMRegressor(metric='rmse')\n",
    "    \n",
    "    model_pipeline = Pipeline(steps=[('full_pipeline', build_pipeline.full_pipeline), \n",
    "                                      ('model', lgbm)])\n",
    "    print(f'Model {fold_} fitting...')\n",
    "    model_pipeline.fit(train_X, train_y)\n",
    "    print(f'Model {fold_} fitted.')\n",
    "    val_pred = np.expm1(model_pipeline.predict(val_X))\n",
    "    \n",
    "    rmse = np.sqrt(mean_squared_error(val_y, val_pred))\n",
    "    \n",
    "    print(f'Fold: {fold_} , RMSE: {rmse}')\n",
    "    \n",
    "    test_fold_pred = np.expm1(model_pipeline.predict(test))\n",
    "    \n",
    "    oof_preds[val_index,:] = val_pred.reshape((-1, 1))\n",
    "    \n",
    "    test_preds += test_fold_pred.reshape((-1, 1))\n",
    "    \n",
    "test_preds /= NFOLDS"
   ]
  },
  {
   "cell_type": "code",
   "execution_count": 146,
   "metadata": {
    "ExecuteTime": {
     "end_time": "2019-11-26T16:41:21.876701Z",
     "start_time": "2019-11-26T16:41:21.801366Z"
    }
   },
   "outputs": [],
   "source": [
    "def metric(y_pred, y_true):\n",
    "    return np.sqrt(np.mean(np.power(np.log(y_pred + 1) - np.log(y_true + 1), 2)))"
   ]
  },
  {
   "cell_type": "code",
   "execution_count": 33,
   "metadata": {
    "ExecuteTime": {
     "end_time": "2019-11-26T14:03:50.210110Z",
     "start_time": "2019-11-26T14:03:46.886104Z"
    }
   },
   "outputs": [
    {
     "data": {
      "text/plain": [
       "1.3649332379397958"
      ]
     },
     "execution_count": 33,
     "metadata": {},
     "output_type": "execute_result"
    }
   ],
   "source": [
    "metric(np.clip(a = np.squeeze(oof_preds), a_min=0, a_max=None), np.expm1(y).values)"
   ]
  },
  {
   "cell_type": "code",
   "execution_count": 34,
   "metadata": {
    "ExecuteTime": {
     "end_time": "2019-11-26T14:05:22.481477Z",
     "start_time": "2019-11-26T14:05:22.442871Z"
    }
   },
   "outputs": [],
   "source": [
    "from datetime import datetime"
   ]
  },
  {
   "cell_type": "code",
   "execution_count": 71,
   "metadata": {
    "ExecuteTime": {
     "end_time": "2019-11-26T14:22:13.469592Z",
     "start_time": "2019-11-26T14:22:13.413002Z"
    }
   },
   "outputs": [],
   "source": [
    "timestamp = datetime.now().strftime(\"%Y-%m-%d_%H:%M:%S\")\n",
    "\n",
    "p = Path('../../data/output/')\n",
    "\n",
    "oof_prediction_file = p / f\"oof_{timestamp}_{model_pipeline.steps[-1][1].__class__.__name__}.csv\"\n",
    "test_prediction_file = p / f\"test_{timestamp}_{model_pipeline.steps[-1][1].__class__.__name__}.csv\"\n",
    "\n",
    "p.mkdir(parents=True, exist_ok=True)\n"
   ]
  },
  {
   "cell_type": "code",
   "execution_count": 74,
   "metadata": {
    "ExecuteTime": {
     "end_time": "2019-11-26T14:25:51.863441Z",
     "start_time": "2019-11-26T14:22:48.681738Z"
    }
   },
   "outputs": [],
   "source": [
    "oof_preds = np.clip(a = np.squeeze(oof_preds), a_min=0, a_max=None)\n",
    "test_preds = np.clip(a = np.squeeze(test_preds), a_min=0, a_max=None)\n",
    "\n",
    "submission = pd.DataFrame({'row_id':test.index, 'meter_reading':test_preds})\n",
    "submission.to_csv(test_prediction_file, index=False)\n",
    "\n",
    "oof_prediction = pd.DataFrame({'row_id':X.index, 'meter_reading':oof_preds})\n",
    "oof_prediction.to_csv(oof_prediction_file, index=False)"
   ]
  },
  {
   "cell_type": "code",
   "execution_count": 75,
   "metadata": {
    "ExecuteTime": {
     "end_time": "2019-11-26T14:51:11.049539Z",
     "start_time": "2019-11-26T14:51:10.772124Z"
    }
   },
   "outputs": [
    {
     "data": {
      "text/plain": [
       "array([ 0,  1,  2,  3,  4,  5,  6,  7,  8,  9, 10, 11, 12, 13, 14, 15])"
      ]
     },
     "execution_count": 75,
     "metadata": {},
     "output_type": "execute_result"
    }
   ],
   "source": [
    "X.site_id.unique()"
   ]
  },
  {
   "cell_type": "code",
   "execution_count": null,
   "metadata": {},
   "outputs": [],
   "source": []
  },
  {
   "cell_type": "code",
   "execution_count": 165,
   "metadata": {
    "ExecuteTime": {
     "end_time": "2019-11-26T20:51:30.477920Z",
     "start_time": "2019-11-26T20:51:30.391768Z"
    }
   },
   "outputs": [],
   "source": [
    "from tqdm import tqdm_notebook as tqdm"
   ]
  },
  {
   "cell_type": "code",
   "execution_count": 166,
   "metadata": {
    "ExecuteTime": {
     "end_time": "2019-11-26T21:41:56.717549Z",
     "start_time": "2019-11-26T20:52:56.064016Z"
    }
   },
   "outputs": [
    {
     "name": "stderr",
     "output_type": "stream",
     "text": [
      "/anaconda3/envs/kaggle_ashrae/lib/python3.7/site-packages/ipykernel_launcher.py:6: TqdmDeprecationWarning: This function will be removed in tqdm==5.0.0\n",
      "Please use `tqdm.notebook.tqdm` instead of `tqdm.tqdm_notebook`\n",
      "  \n"
     ]
    },
    {
     "data": {
      "application/vnd.jupyter.widget-view+json": {
       "model_id": "42e7b363a5b34a078fa9176d6d3096a4",
       "version_major": 2,
       "version_minor": 0
      },
      "text/plain": [
       "HBox(children=(IntProgress(value=0, description='site_id', max=16, style=ProgressStyle(description_width='init…"
      ]
     },
     "metadata": {},
     "output_type": "display_data"
    },
    {
     "name": "stdout",
     "output_type": "stream",
     "text": [
      "10 CV for site_id: 0\n",
      "\tFold: 0 , RMSE: 2039.5935254492513\n",
      "\tFold: 1 , RMSE: 1522.4074615414725\n",
      "\tFold: 2 , RMSE: 1454.3190227329305\n",
      "\tFold: 3 , RMSE: 1434.7190825058829\n",
      "\tFold: 4 , RMSE: 1590.2727473306527\n",
      "\tFold: 5 , RMSE: 1471.2856686521634\n",
      "\tFold: 6 , RMSE: 1498.9110554651854\n",
      "\tFold: 7 , RMSE: 956.7738980044031\n",
      "\tFold: 8 , RMSE: 853.8726907832279\n",
      "\tFold: 9 , RMSE: 987.550797595622\n",
      "10 CV for site_id: 0 fitted. RMSE: 1380.9705950060793+/-337.7107896656341 \n",
      "10 CV for site_id: 1\n",
      "\tFold: 0 , RMSE: 223.87341236635635\n",
      "\tFold: 1 , RMSE: 223.87875978681265\n",
      "\tFold: 2 , RMSE: 221.1479561662237\n",
      "\tFold: 3 , RMSE: 213.03385784933775\n",
      "\tFold: 4 , RMSE: 207.1700323808346\n",
      "\tFold: 5 , RMSE: 206.82593831641253\n",
      "\tFold: 6 , RMSE: 202.47334192992363\n",
      "\tFold: 7 , RMSE: 203.7675150484371\n",
      "\tFold: 8 , RMSE: 199.03094022029248\n",
      "\tFold: 9 , RMSE: 218.62416959306205\n",
      "10 CV for site_id: 1 fitted. RMSE: 211.98259236576928+/-8.874347567262191 \n",
      "10 CV for site_id: 2\n",
      "\tFold: 0 , RMSE: 219.4968764873154\n",
      "\tFold: 1 , RMSE: 220.68191624538898\n",
      "\tFold: 2 , RMSE: 246.76868668963164\n",
      "\tFold: 3 , RMSE: 277.1889461593158\n",
      "\tFold: 4 , RMSE: 317.3697934654302\n",
      "\tFold: 5 , RMSE: 366.8172876139439\n",
      "\tFold: 6 , RMSE: 360.0063586013986\n",
      "\tFold: 7 , RMSE: 311.8454504911328\n",
      "\tFold: 8 , RMSE: 239.8757174770653\n",
      "\tFold: 9 , RMSE: 216.64618706544468\n",
      "10 CV for site_id: 2 fitted. RMSE: 277.66972202960676+/-54.96338777422763 \n",
      "10 CV for site_id: 3\n",
      "\tFold: 0 , RMSE: 261.2966334763501\n",
      "\tFold: 1 , RMSE: 248.27572567772853\n",
      "\tFold: 2 , RMSE: 231.1460947450725\n",
      "\tFold: 3 , RMSE: 225.40007923442332\n",
      "\tFold: 4 , RMSE: 237.2010668272245\n",
      "\tFold: 5 , RMSE: 288.2851646211531\n",
      "\tFold: 6 , RMSE: 285.5370068236486\n",
      "\tFold: 7 , RMSE: 248.05862456808055\n",
      "\tFold: 8 , RMSE: 225.02488580885102\n",
      "\tFold: 9 , RMSE: 214.04147850692337\n",
      "10 CV for site_id: 3 fitted. RMSE: 246.42667602894556+/-24.034376136403893 \n",
      "10 CV for site_id: 4\n",
      "\tFold: 0 , RMSE: 331.38348147400814\n",
      "\tFold: 1 , RMSE: 323.39377242359745\n",
      "\tFold: 2 , RMSE: 330.483262736402\n",
      "\tFold: 3 , RMSE: 326.10055100144535\n",
      "\tFold: 4 , RMSE: 325.91632842666354\n",
      "\tFold: 5 , RMSE: 317.03125050546885\n",
      "\tFold: 6 , RMSE: 320.34869581390876\n",
      "\tFold: 7 , RMSE: 320.7429101786003\n",
      "\tFold: 8 , RMSE: 324.71874937346576\n",
      "\tFold: 9 , RMSE: 308.0243297390878\n",
      "10 CV for site_id: 4 fitted. RMSE: 322.81433316726486+/-6.474452439052065 \n",
      "10 CV for site_id: 5\n",
      "\tFold: 0 , RMSE: 52.30486979432255\n",
      "\tFold: 1 , RMSE: 54.40038009633397\n",
      "\tFold: 2 , RMSE: 56.018114402719604\n",
      "\tFold: 3 , RMSE: 48.25102140155632\n",
      "\tFold: 4 , RMSE: 48.793798066640015\n",
      "\tFold: 5 , RMSE: 49.145271309818646\n",
      "\tFold: 6 , RMSE: 47.716021076150156\n",
      "\tFold: 7 , RMSE: 47.15028543090132\n",
      "\tFold: 8 , RMSE: 55.846273396988884\n",
      "\tFold: 9 , RMSE: 53.675423924934606\n",
      "10 CV for site_id: 5 fitted. RMSE: 51.330145890036604+/-3.3086264026529304 \n",
      "10 CV for site_id: 6\n",
      "\tFold: 0 , RMSE: 980.651238338555\n",
      "\tFold: 1 , RMSE: 698.6423362545577\n",
      "\tFold: 2 , RMSE: 738.2844093813305\n",
      "\tFold: 3 , RMSE: 613.2573452218584\n",
      "\tFold: 4 , RMSE: 616.4921875804007\n",
      "\tFold: 5 , RMSE: 613.6283378859902\n",
      "\tFold: 6 , RMSE: 9969.608101724949\n",
      "\tFold: 7 , RMSE: 650.8869687108338\n",
      "\tFold: 8 , RMSE: 599.7328580015208\n",
      "\tFold: 9 , RMSE: 546.8206891793852\n",
      "10 CV for site_id: 6 fitted. RMSE: 1602.800447227938+/-2791.294823894969 \n",
      "10 CV for site_id: 7\n",
      "\tFold: 0 , RMSE: 2080.152720730174\n",
      "\tFold: 1 , RMSE: 1781.5452295039922\n",
      "\tFold: 2 , RMSE: 1558.9100111295452\n",
      "\tFold: 3 , RMSE: 1291.4744543231275\n",
      "\tFold: 4 , RMSE: 1374.426891100814\n",
      "\tFold: 5 , RMSE: 1790.3977245969377\n",
      "\tFold: 6 , RMSE: 1727.381002455194\n",
      "\tFold: 7 , RMSE: 1414.5201559157208\n",
      "\tFold: 8 , RMSE: 1540.6466686965555\n",
      "\tFold: 9 , RMSE: 1603.991661009539\n",
      "10 CV for site_id: 7 fitted. RMSE: 1616.34465194616+/-223.38580824685494 \n",
      "10 CV for site_id: 8\n",
      "\tFold: 0 , RMSE: 200.90424916501306\n",
      "\tFold: 1 , RMSE: 191.4803044837952\n",
      "\tFold: 2 , RMSE: 197.02908291859652\n",
      "\tFold: 3 , RMSE: 199.88044328080366\n",
      "\tFold: 4 , RMSE: 195.89155251046833\n",
      "\tFold: 5 , RMSE: 181.62110949880613\n",
      "\tFold: 6 , RMSE: 220.83213054598366\n",
      "\tFold: 7 , RMSE: 192.51213087232156\n",
      "\tFold: 8 , RMSE: 194.44245524515443\n",
      "\tFold: 9 , RMSE: 193.43999675976215\n",
      "10 CV for site_id: 8 fitted. RMSE: 196.80334552807045+/-9.479906499682247 \n",
      "10 CV for site_id: 9\n",
      "\tFold: 0 , RMSE: 212.76397094783852\n",
      "\tFold: 1 , RMSE: 258.7412696587592\n",
      "\tFold: 2 , RMSE: 295.3031419912733\n",
      "\tFold: 3 , RMSE: 306.7493072408527\n",
      "\tFold: 4 , RMSE: 331.38347377460923\n",
      "\tFold: 5 , RMSE: 301.90258806239115\n",
      "\tFold: 6 , RMSE: 430.35723205119007\n",
      "\tFold: 7 , RMSE: 409.06508210885687\n",
      "\tFold: 8 , RMSE: 300.4106279775651\n",
      "\tFold: 9 , RMSE: 290.67843420639883\n",
      "10 CV for site_id: 9 fitted. RMSE: 313.73551280197347+/-61.20227173345055 \n",
      "10 CV for site_id: 10\n",
      "\tFold: 0 , RMSE: 381.89135367091154\n",
      "\tFold: 1 , RMSE: 267.6376371621571\n",
      "\tFold: 2 , RMSE: 316.3413843049353\n",
      "\tFold: 3 , RMSE: 181.208321443954\n",
      "\tFold: 4 , RMSE: 172.3862788726398\n",
      "\tFold: 5 , RMSE: 327.7859312259042\n",
      "\tFold: 6 , RMSE: 218.71377943043376\n",
      "\tFold: 7 , RMSE: 326.38956552939715\n",
      "\tFold: 8 , RMSE: 304.64242358059\n",
      "\tFold: 9 , RMSE: 600.3498354994217\n",
      "10 CV for site_id: 10 fitted. RMSE: 309.73465107203447+/-116.5234483498204 \n",
      "10 CV for site_id: 11\n",
      "\tFold: 0 , RMSE: 200.851638637701\n",
      "\tFold: 1 , RMSE: 190.10326207543218\n",
      "\tFold: 2 , RMSE: 163.25805847570382\n",
      "\tFold: 3 , RMSE: 150.59782149072387\n",
      "\tFold: 4 , RMSE: 190.12751144408415\n",
      "\tFold: 5 , RMSE: 232.9098187612742\n",
      "\tFold: 6 , RMSE: 239.7057207592766\n",
      "\tFold: 7 , RMSE: 177.31453016543904\n",
      "\tFold: 8 , RMSE: 156.75374882632718\n",
      "\tFold: 9 , RMSE: 168.83877086859937\n",
      "10 CV for site_id: 11 fitted. RMSE: 187.04608815045611+/-28.851577672057275 \n",
      "10 CV for site_id: 12\n",
      "\tFold: 0 , RMSE: 139.81193207905653\n",
      "\tFold: 1 , RMSE: 133.04592564334388\n",
      "\tFold: 2 , RMSE: 132.99733445787857\n",
      "\tFold: 3 , RMSE: 126.14472481365699\n",
      "\tFold: 4 , RMSE: 133.28933194667354\n",
      "\tFold: 5 , RMSE: 129.4854140286641\n",
      "\tFold: 6 , RMSE: 135.3214770468833\n",
      "\tFold: 7 , RMSE: 134.89102171600723\n",
      "\tFold: 8 , RMSE: 141.3906710550102\n",
      "\tFold: 9 , RMSE: 143.09204381931892\n",
      "10 CV for site_id: 12 fitted. RMSE: 134.9469876606493+/-4.99144947717721 \n",
      "10 CV for site_id: 13\n",
      "\tFold: 0 , RMSE: 9129.713625674247\n",
      "\tFold: 1 , RMSE: 65669.79397811013\n",
      "\tFold: 2 , RMSE: 58593.330454980365\n",
      "\tFold: 3 , RMSE: 32759.524782595283\n",
      "\tFold: 4 , RMSE: 12788.4683615556\n",
      "\tFold: 5 , RMSE: 1947.0077320427981\n",
      "\tFold: 6 , RMSE: 2340.5604865393716\n",
      "\tFold: 7 , RMSE: 2627.3766734848264\n",
      "\tFold: 8 , RMSE: 3191.9825943769315\n",
      "\tFold: 9 , RMSE: 3916.6902338472787\n",
      "10 CV for site_id: 13 fitted. RMSE: 19296.444892320684+/-23203.354938387576 \n",
      "10 CV for site_id: 14\n",
      "\tFold: 0 , RMSE: 925.8724473097827\n",
      "\tFold: 1 , RMSE: 967.0433073460089\n",
      "\tFold: 2 , RMSE: 894.6487243581953\n",
      "\tFold: 3 , RMSE: 928.2406804561052\n",
      "\tFold: 4 , RMSE: 1109.4252482157242\n",
      "\tFold: 5 , RMSE: 1185.9285006313903\n",
      "\tFold: 6 , RMSE: 1109.58148839021\n",
      "\tFold: 7 , RMSE: 1099.4570363003093\n",
      "\tFold: 8 , RMSE: 845.0496968815204\n",
      "\tFold: 9 , RMSE: 896.4091230315961\n",
      "10 CV for site_id: 14 fitted. RMSE: 996.1656252920842+/-112.19004758642278 \n",
      "10 CV for site_id: 15\n",
      "\tFold: 0 , RMSE: 671.9611314242724\n",
      "\tFold: 1 , RMSE: 624.8793326319143\n",
      "\tFold: 2 , RMSE: 445.4601082898287\n",
      "\tFold: 3 , RMSE: 308.3698922928876\n",
      "\tFold: 4 , RMSE: 238.10025639112473\n",
      "\tFold: 5 , RMSE: 249.20283446491555\n",
      "\tFold: 6 , RMSE: 294.422442799652\n",
      "\tFold: 7 , RMSE: 466.3585441561393\n",
      "\tFold: 8 , RMSE: 635.1603160974042\n",
      "\tFold: 9 , RMSE: 640.8465244547658\n",
      "10 CV for site_id: 15 fitted. RMSE: 457.4761383002905+/-167.2632704108902 \n",
      "\n"
     ]
    }
   ],
   "source": [
    "oof_preds = np.zeros((len(train), 1))\n",
    "test_preds = np.zeros((len(test), 1))\n",
    "\n",
    "models = {}\n",
    "\n",
    "for site_id in tqdm(range(16), desc='site_id'):\n",
    "    \n",
    "    X_site = X[X['site_id']==site_id]\n",
    "    y_site = y.loc[X_site.index]\n",
    "    test_site = test[test['site_id']==site_id]\n",
    "    \n",
    "    models[site_id] = []\n",
    "    rmse_scores = []\n",
    "\n",
    "    NFOLDS = 10\n",
    "    folds  = KFold(n_splits=NFOLDS, shuffle=False, random_state=123)\n",
    "\n",
    "    print(f\"{NFOLDS} CV for site_id: {site_id}\")\n",
    "    \n",
    "    for fold_, (train_index, val_index) in enumerate(folds.split(X_site)):\n",
    "        train_X = X_site.iloc[train_index]\n",
    "        val_X = X_site.iloc[val_index]\n",
    "        train_y = y_site.iloc[train_index]\n",
    "        val_y = y_site.iloc[val_index]\n",
    "\n",
    "        lgbm = LGBMRegressor(metric='rmse')\n",
    "\n",
    "        model_pipeline = Pipeline(steps=[('full_pipeline', build_pipeline.full_pipeline), \n",
    "                                          ('model', lgbm)])\n",
    "  \n",
    "        model_pipeline.fit(train_X, train_y)\n",
    "        val_pred = np.expm1(model_pipeline.predict(val_X))\n",
    "\n",
    "        # Scoring\n",
    "        rmse = np.sqrt(mean_squared_error(val_y, val_pred))\n",
    "        print(f'\\tFold: {fold_} , RMSE: {rmse}')\n",
    "\n",
    "        test_fold_pred = np.expm1(model_pipeline.predict(test.iloc[test_site.index]))\n",
    "        oof_preds[val_index,:] = val_pred.reshape((-1, 1))\n",
    "        test_preds[test_site.index] += test_fold_pred.reshape((-1, 1))\n",
    "        \n",
    "        models[site_id].append(model_pipeline)\n",
    "        \n",
    "        rmse_scores.append(rmse)\n",
    "    \n",
    "    print(f\"{NFOLDS} CV for site_id: {site_id} fitted. RMSE: {np.array(rmse_scores).mean()}+/-{np.array(rmse_scores).std()} \")\n",
    "\n",
    "test_preds /= NFOLDS"
   ]
  },
  {
   "cell_type": "code",
   "execution_count": 168,
   "metadata": {
    "ExecuteTime": {
     "end_time": "2019-11-27T05:41:57.833242Z",
     "start_time": "2019-11-27T05:41:55.732832Z"
    }
   },
   "outputs": [
    {
     "data": {
      "text/plain": [
       "4.495986217539851"
      ]
     },
     "execution_count": 168,
     "metadata": {},
     "output_type": "execute_result"
    }
   ],
   "source": [
    "def metric(y_pred, y_true):\n",
    "    return np.sqrt(np.mean(np.power(np.log(y_pred + 1) - np.log(y_true + 1), 2)))\n",
    "\n",
    "metric(np.clip(a = np.squeeze(oof_preds), a_min=0, a_max=None), np.expm1(y).values)"
   ]
  },
  {
   "cell_type": "code",
   "execution_count": null,
   "metadata": {},
   "outputs": [],
   "source": []
  }
 ],
 "metadata": {
  "kernelspec": {
   "display_name": "Python 3",
   "language": "python",
   "name": "python3"
  },
  "language_info": {
   "codemirror_mode": {
    "name": "ipython",
    "version": 3
   },
   "file_extension": ".py",
   "mimetype": "text/x-python",
   "name": "python",
   "nbconvert_exporter": "python",
   "pygments_lexer": "ipython3",
   "version": "3.7.5"
  },
  "latex_envs": {
   "LaTeX_envs_menu_present": true,
   "autoclose": false,
   "autocomplete": true,
   "bibliofile": "biblio.bib",
   "cite_by": "apalike",
   "current_citInitial": 1,
   "eqLabelWithNumbers": true,
   "eqNumInitial": 1,
   "hotkeys": {
    "equation": "Ctrl-E",
    "itemize": "Ctrl-I"
   },
   "labels_anchors": false,
   "latex_user_defs": false,
   "report_style_numbering": false,
   "user_envs_cfg": false
  },
  "toc": {
   "base_numbering": 1,
   "nav_menu": {},
   "number_sections": true,
   "sideBar": true,
   "skip_h1_title": false,
   "title_cell": "Table of Contents",
   "title_sidebar": "Contents",
   "toc_cell": false,
   "toc_position": {},
   "toc_section_display": true,
   "toc_window_display": false
  },
  "varInspector": {
   "cols": {
    "lenName": 16,
    "lenType": 16,
    "lenVar": 40
   },
   "kernels_config": {
    "python": {
     "delete_cmd_postfix": "",
     "delete_cmd_prefix": "del ",
     "library": "var_list.py",
     "varRefreshCmd": "print(var_dic_list())"
    },
    "r": {
     "delete_cmd_postfix": ") ",
     "delete_cmd_prefix": "rm(",
     "library": "var_list.r",
     "varRefreshCmd": "cat(var_dic_list()) "
    }
   },
   "types_to_exclude": [
    "module",
    "function",
    "builtin_function_or_method",
    "instance",
    "_Feature"
   ],
   "window_display": false
  }
 },
 "nbformat": 4,
 "nbformat_minor": 2
}
